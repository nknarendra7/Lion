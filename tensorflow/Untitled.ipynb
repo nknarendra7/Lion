{
 "cells": [
  {
   "cell_type": "code",
   "execution_count": 3,
   "metadata": {},
   "outputs": [
    {
     "data": {
      "text/plain": [
       "'\\nTensorFlow is based on graph based computation.It’s an alternative way of conceptualising mathematical calculations.\\nConsider the following expression a = (b+c)* (c+2).\\nWe can break this function down into the following components:\\n\\td = b+c\\n\\te = c+2\\n\\ta = d*e\\n'"
      ]
     },
     "execution_count": 3,
     "metadata": {},
     "output_type": "execute_result"
    }
   ],
   "source": [
    "#tensorflow basic command\n",
    "#TensorFlow is based on graph based computation.It’s an alternative way of conceptualising mathematical calculations.\n",
    "#Consider the following expression a = (b+c)* (c+2).\n",
    "#We can break this function down into the following components:\n",
    "'''\n",
    "d = b+c\n",
    "e = c+2\n",
    "a = d*e\n",
    "\n",
    "'''"
   ]
  },
  {
   "attachments": {
    "Simple-graph-example.png": {
     "image/png": "[encoded data removed]"
    }
   },
   "cell_type": "markdown",
   "metadata": {},
   "source": [
    "![Simple-graph-example.png](attachment:Simple-graph-example.png)"
   ]
  },
  {
   "cell_type": "code",
   "execution_count": null,
   "metadata": {},
   "outputs": [],
   "source": [
    "\n",
    "#Let’s first make TensorFlow perform our little example calculation above.\n",
    "import tensorflow as tf\n",
    "# first, create a TensorFlow constant\n",
    "const = tf.constant(2.0, name=\"const\")\n",
    "    \n",
    "# create TensorFlow variables\n",
    "b = tf.Variable(2.0, name='b')\n",
    "c = tf.Variable(1.0, name='c')\n",
    "# now create some operations\n",
    "d = tf.add(b, c, name='d')\n",
    "e = tf.add(c, const, name='e')\n",
    "a = tf.multiply(d, e, name='a')\n",
    "\n",
    "#The next step is to setup an object to initialise the variables and the graph structure\n",
    "# setup the variable initialisation\n",
    "init_op = tf.global_variables_initializer()\n",
    "\n",
    "#To run the operations between the variables, we need to start a TensorFlow session – tf.Session.\n",
    "#The TensorFlow session is an object where all operations are run. TensorFlow was initially created in a static graph paradigm – in other words, first \n",
    "#all the operations and variables are defined (the graph structure) and then these are compiled within the tf.Session object.\n",
    "#There is now the option to build graphs on the fly using the TensorFlow Eager framework.\n",
    "#However, there are still advantages in building static graphs using the tf.Session object.\n",
    "# start the session\n",
    "with tf.Session() as sess:\n",
    "    # initialise the variables\n",
    "    sess.run(init_op)\n",
    "    # compute the output of the graph\n",
    "    a_out = sess.run(a)\n",
    "    print(\"Variable a is {}\".format(a_out))"
   ]
  },
  {
   "cell_type": "code",
   "execution_count": null,
   "metadata": {},
   "outputs": [],
   "source": [
    "# TensorFlow placeholder\n",
    "#Let’s also say that we didn’t know what the value of the array b would be during the declaration phase of the TensorFlow problem.\n",
    "# In this case, TensorFlow requires us to declare the basic structure of the data by using the tf.placeholder variable declaration.\n",
    "#Let’s use it for b:\n",
    "# create TensorFlow variables\n",
    "b = tf.placeholder(tf.float32, [None, 1], name='b')\n",
    "\n",
    "#Because we aren’t providing an initialisation in this declaration, we need to tell TensorFlow what data type each element within the tensor is going to be.\n",
    "#In this case, we want to use tf.float32.\n",
    "#The second argument is the shape of the data that will be “injected” into this variable.  In this case, we want to use a (? x 1) sized array\n",
    "#the placeholder is willing to accept a None argument in the size declaration.  Now we can inject as much 1-dimensional data that we want into the b variable.\n",
    "#The only other change we need to make to our program is in the sess.run(a,…) command:\n",
    "a_out = sess.run(a, feed_dict={b: np.arange(0, 10)[:, np.newaxis]})\n",
    "#As suggested by the argument name, feed_dict, the input to be supplied is a Python dictionary, with each key being the name of the placeholder that we are filling.\n",
    "\n",
    "#Simple three layer neural network\n",
    "#This MNIST dataset is a set of 28×28 pixel grayscale images which represent hand-written digits.  It has 55,000 training rows, 10,000 testing rows and 5,000 validation rows.\n",
    "from tensorflow.examples.tutorials.mnist import input_data\n",
    "mnist = input_data.read_data_sets(\"MNIST_data/\", one_hot=True)\n",
    "\n",
    "#The one_hot=True argument specifies that instead of the labels associated with each image being the \n",
    "#digit itself i.e. “4”, it is a vector with “one hot” node and all the other nodes being zero i.e. [0, 0, 0, 0, 1, 0, 0, 0, 0, 0].  This lets us easily feed it into the output layer of our neural network.\n",
    "# Python optimisation variables\n",
    "learning_rate = 0.5\n",
    "epochs = 10\n",
    "batch_size = 100\n",
    "\n",
    "# declare the training data placeholders\n",
    "# input x - for 28 x 28 pixels = 784\n",
    "x = tf.placeholder(tf.float32, [None, 784])\n",
    "# now declare the output data placeholder - 10 digits\n",
    "y = tf.placeholder(tf.float32, [None, 10])\n",
    "\n",
    "#Notice the x input layer is 784 nodes corresponding to the 28 x 28 (=784) pixels, and the y output layer is 10 nodes corresponding to the 10 possible digits.\n",
    "# the size of x is (? x 784), where the ? stands for an as yet unspecified number of samples to be input – this is the function of the placeholder variable.\n",
    "#Now we need to setup the weight and bias variables for the three layer neural network.  \n",
    "#There are always L-1 number of weights/bias tensors, where L is the number of layers.  So in this case, we need to setup two tensors for each:\n",
    "# now declare the weights connecting the input to the hidden layer\n",
    "W1 = tf.Variable(tf.random_normal([784, 300], stddev=0.03), name='W1')\n",
    "b1 = tf.Variable(tf.random_normal([300]), name='b1')\n",
    "# and the weights connecting the hidden layer to the output layer\n",
    "W2 = tf.Variable(tf.random_normal([300, 10], stddev=0.03), name='W2')\n",
    "b2 = tf.Variable(tf.random_normal([10]), name='b2')\n",
    "\n",
    "#First, we declare some variables for W1 and b1, the weights and bias for the connections between the input and hidden layer.\n",
    "#This neural network will have 300 nodes in the hidden layer, so the size of the weight tensor W1 is [784, 300].\n",
    "# We initialise the values of the weights using a random normal distribution with a mean of zero and a standard deviation of 0.03.\n",
    "#Likewise, we create W2 and b2 variables to connect the hidden layer to the output layer of the neural network.\n",
    "#Next, we have to setup node inputs and activation functions of the hidden layer nodes:\n",
    "\n",
    "\n",
    "# calculate the output of the hidden layer\n",
    "hidden_out = tf.add(tf.matmul(x, W1), b1)\n",
    "hidden_out = tf.nn.relu(hidden_out)\n",
    "\n",
    "#Now, let’s setup the output layer, y_:\n",
    "# now calculate the hidden layer output - in this case, let's use a softmax activated\n",
    "# output layer\n",
    "y_ = tf.nn.softmax(tf.add(tf.matmul(hidden_out, W2), b2))\n",
    "\n",
    "#We also have to include a cost or loss function for the optimisation / backpropagation to work on.\n",
    "y_clipped = tf.clip_by_value(y_, 1e-10, 0.9999999)\n",
    "cross_entropy = -tf.reduce_mean(tf.reduce_sum(y * tf.log(y_clipped)\n",
    "                         + (1 - y) * tf.log(1 - y_clipped), axis=1))\n",
    "# The first line is an operation converting the output y_ to a clipped version, limited between 1e-10 to 0.999999. \n",
    "# This is to make sure that we never get a case were we have a log(0) operation occurring during training\n",
    "#this would return NaN and break the training process.  The second line is the cross entropy calculation.\n",
    "#To perform this calculation, first we use TensorFlow’s tf.reduce_sum function – this function basically takes the sum of a given axis of the tensor you supply.\n",
    "#In this case, the tensor that is supplied is the element-wise cross-entropy calculation for a single node and training sample\n",
    "# Remember that y and y_clipped in the above calculation are (m x 10) tensors – therefore we need to perform the first sum over the second axis.  This is specified\n",
    "#using the axis=1 argument, where “1” actually refers to the second axis when we have a zero-based indices system like Python.\n",
    "# add an optimiser\n",
    "optimiser = tf.train.GradientDescentOptimizer(learning_rate=learning_rate).minimize(cross_entropy)\n",
    "# finally setup the initialisation operator\n",
    "init_op = tf.global_variables_initializer()\n",
    "\n",
    "# define an accuracy assessment operation\n",
    "correct_prediction = tf.equal(tf.argmax(y, 1), tf.argmax(y_, 1))\n",
    "accuracy = tf.reduce_mean(tf.cast(correct_prediction, tf.float32))\n",
    "#Setting up the training\n",
    "# start the session\n",
    "with tf.Session() as sess:\n",
    "   # initialise the variables\n",
    "   sess.run(init_op)\n",
    "   total_batch = int(len(mnist.train.labels) / batch_size)\n",
    "   for epoch in range(epochs):\n",
    "        avg_cost = 0\n",
    "        for i in range(total_batch):\n",
    "            batch_x, batch_y = mnist.train.next_batch(batch_size=batch_size)\n",
    "             _, c = sess.run([optimiser, cross_entropy], \n",
    "                         feed_dict={x: batch_x, y: batch_y})\n",
    "            avg_cost += c / total_batch\n",
    "        print(\"Epoch:\", (epoch + 1), \"cost =\", \"{:.3f}\".format(avg_cost))\n",
    "   print(sess.run(accuracy, feed_dict={x: mnist.test.images, y: mnist.test.labels}))\n",
    "#Have fun explore more\n"
   ]
  },
  {
   "cell_type": "code",
   "execution_count": null,
   "metadata": {},
   "outputs": [],
   "source": []
  }
 ],
 "metadata": {
  "kernelspec": {
   "display_name": "Python 3",
   "language": "python",
   "name": "python3"
  },
  "language_info": {
   "codemirror_mode": {
    "name": "ipython",
    "version": 3
   },
   "file_extension": ".py",
   "mimetype": "text/x-python",
   "name": "python",
   "nbconvert_exporter": "python",
   "pygments_lexer": "ipython3",
   "version": "3.7.0"
  }
 },
 "nbformat": 4,
 "nbformat_minor": 2
}
